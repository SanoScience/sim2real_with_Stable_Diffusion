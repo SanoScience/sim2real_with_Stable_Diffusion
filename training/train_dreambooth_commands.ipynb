{
 "cells": [
  {
   "attachments": {},
   "cell_type": "markdown",
   "metadata": {},
   "source": [
    "# Dreambooth training \n",
    "### We recommend [official Diffusers tutorial](https://huggingface.co/docs/diffusers/training/dreambooth) which helps to get familiar with this type of fine-tuning, explains the environment setup and used parameters in detail.   \n",
    "### Our fine-tuned models and training data are available on OneDrive."
   ]
  },
  {
   "attachments": {},
   "cell_type": "markdown",
   "metadata": {},
   "source": [
    "## Crop and resize selected images to 512x512."
   ]
  },
  {
   "cell_type": "code",
   "execution_count": null,
   "metadata": {},
   "outputs": [],
   "source": [
    "from PIL import Image\n",
    "import os\n",
    "from torchvision.transforms import functional as F\n",
    "from torchvision.transforms import InterpolationMode\n",
    "import random\n",
    "import json"
   ]
  },
  {
   "cell_type": "code",
   "execution_count": 2,
   "metadata": {},
   "outputs": [],
   "source": [
    "folder = \"/path/to/training/images\"\n",
    "folder_cropped = \"/path/to/training/images_croped\"\n",
    "os.makedirs(folder_cropped, exist_ok=True)\n",
    "\n",
    "for filename in os.listdir(folder):\n",
    "    if filename.endswith('.jpeg') or filename.endswith('.png') or filename.endswith('.jpg'):\n",
    "        image = Image.open(os.path.join(folder, filename)).convert(\"RGB\")\n",
    "        image = F.center_crop(image, 480) # this size (eg. 480) depends on cholect video\n",
    "        image = F.resize(image, 512, interpolation = InterpolationMode.BILINEAR)\n",
    "        image.save(os.path.join(folder_cropped, filename))"
   ]
  },
  {
   "attachments": {},
   "cell_type": "markdown",
   "metadata": {},
   "source": [
    "## Creating json concept list"
   ]
  },
  {
   "cell_type": "code",
   "execution_count": 3,
   "metadata": {},
   "outputs": [],
   "source": [
    "concepts_list = [\n",
    "    {\n",
    "        \"instance_prompt\":      \"cholect45\",\n",
    "        \"class_prompt\":         \"\",\n",
    "        \"instance_data_dir\":    f\"{folder_cropped}\"\n",
    "    },\n",
    "]\n",
    "\n",
    "with open(\"./concepts_list.json\", \"w\") as f:\n",
    "    json.dump(concepts_list, f, indent=4)"
   ]
  },
  {
   "attachments": {},
   "cell_type": "markdown",
   "metadata": {},
   "source": [
    "## DREAMBOOTH TRAINING\n",
    "### Following commands run in Terminal. Also remember to have `diffusers venv` activated!"
   ]
  },
  {
   "cell_type": "code",
   "execution_count": null,
   "metadata": {},
   "outputs": [],
   "source": [
    "'''\n",
    "cd training\n",
    "source diffusers_venv/bin/activate\n",
    "export MODEL_NAME=\"runwayml/stable-diffusion-v1-5\"\n",
    "export OUTPUT_DIR=\"/path/to/save/checkpoints\"\n",
    "'''"
   ]
  },
  {
   "attachments": {},
   "cell_type": "markdown",
   "metadata": {},
   "source": [
    "### Template for Dreabooth training command"
   ]
  },
  {
   "cell_type": "code",
   "execution_count": null,
   "metadata": {},
   "outputs": [],
   "source": [
    "#template\n",
    "'''\n",
    "!accelerate launch train_dreambooth.py \\\n",
    "  --pretrained_model_name_or_path=$MODEL_NAME \\\n",
    "  --pretrained_vae_name_or_path=\"stabilityai/sd-vae-ft-mse\" \\\n",
    "  --output_dir=$OUTPUT_DIR \\\n",
    "  --revision=\"fp16\" \\\n",
    "  --with_prior_preservation --prior_loss_weight=1.0 \\\n",
    "  --seed=1337 \\\n",
    "  --resolution=512 \\\n",
    "  --train_batch_size=1 \\\n",
    "  --train_text_encoder \\\n",
    "  --mixed_precision=\"fp16\" \\\n",
    "  --use_8bit_adam \\\n",
    "  --gradient_accumulation_steps=1 \\\n",
    "  --learning_rate=1e-6 \\\n",
    "  --lr_scheduler=\"constant\" \\\n",
    "  --lr_warmup_steps=0 \\\n",
    "  --num_class_images=50 \\\n",
    "  --sample_batch_size=4 \\\n",
    "  --max_train_steps=800 \\\n",
    "  --save_interval=10000 \\\n",
    "  --save_sample_prompt=\"photo of zwx dog\" \\\n",
    "  --concepts_list=\"concepts_list.json\"\n",
    "'''"
   ]
  },
  {
   "cell_type": "markdown",
   "metadata": {},
   "source": [
    "### The actual command (with proper parameters) we used for training all styles - run in Terminal"
   ]
  },
  {
   "cell_type": "code",
   "execution_count": null,
   "metadata": {},
   "outputs": [],
   "source": [
    "'''\n",
    "CUDA_VISIBLE_DEVICES=1 accelerate launch train_dreambooth.py \\\n",
    "--pretrained_model_name_or_path=$MODEL_NAME \\\n",
    "--output_dir=$OUTPUT_DIR \\\n",
    "--concepts_list=\"concepts_list.json\" \\\n",
    "--revision=\"fp16\" \\\n",
    "--train_text_encoder \\\n",
    "--seed=1337 \\\n",
    "--resolution=512 \\\n",
    "--train_batch_size=4 \\\n",
    "--mixed_precision=\"fp16\" \\\n",
    "--gradient_accumulation_steps=1 \\\n",
    "--learning_rate=1e-6 \\\n",
    "--lr_warmup_steps=0 \\\n",
    "--num_class_images=50 \\\n",
    "--save_interval=500 \\\n",
    "--max_train_steps=3000\n",
    "'''"
   ]
  },
  {
   "attachments": {},
   "cell_type": "markdown",
   "metadata": {},
   "source": [
    "### Quick inference for sanity check using diffusers pipeline"
   ]
  },
  {
   "cell_type": "code",
   "execution_count": null,
   "metadata": {},
   "outputs": [],
   "source": [
    "# #Quick inference for sanity check\n",
    "# from diffusers import StableDiffusionPipeline\n",
    "# import torch\n",
    "\n",
    "# model_id = \"/path/to/save/checkpoints\"\n",
    "# pipe = StableDiffusionPipeline.from_pretrained(model_id, torch_dtype=torch.float16).to(\"cuda\")\n",
    "\n",
    "# prompt = \"cholect45\"\n",
    "# image = pipe(prompt, num_inference_steps=50, guidance_scale=7.5).images[0]\n",
    "\n",
    "# image"
   ]
  },
  {
   "attachments": {},
   "cell_type": "markdown",
   "metadata": {},
   "source": [
    "### If you want to upload the fine-tuned model to WebUI, convert diffusers format to original SD format and save it to proper WebUI models folder"
   ]
  },
  {
   "cell_type": "code",
   "execution_count": 4,
   "metadata": {},
   "outputs": [
    {
     "name": "stdout",
     "output_type": "stream",
     "text": [
      "Reshaping encoder.mid.attn_1.q.weight for SD format\n",
      "Reshaping encoder.mid.attn_1.k.weight for SD format\n",
      "Reshaping encoder.mid.attn_1.v.weight for SD format\n",
      "Reshaping encoder.mid.attn_1.proj_out.weight for SD format\n",
      "Reshaping decoder.mid.attn_1.q.weight for SD format\n",
      "Reshaping decoder.mid.attn_1.k.weight for SD format\n",
      "Reshaping decoder.mid.attn_1.v.weight for SD format\n",
      "Reshaping decoder.mid.attn_1.proj_out.weight for SD format\n"
     ]
    }
   ],
   "source": [
    "!python convert_diffusers_to_sd.py --model_path ./cholect_vid52_56_v2_ckpts/2000 \\\n",
    "    --checkpoint_path ../stable-diffusion-webui/models/Stable-diffusion/cholect_vid52_56_v2_2000.safetensors --half --use_safetensors\n"
   ]
  },
  {
   "cell_type": "code",
   "execution_count": null,
   "metadata": {},
   "outputs": [],
   "source": []
  }
 ],
 "metadata": {
  "kernelspec": {
   "display_name": "base",
   "language": "python",
   "name": "python3"
  },
  "language_info": {
   "codemirror_mode": {
    "name": "ipython",
    "version": 3
   },
   "file_extension": ".py",
   "mimetype": "text/x-python",
   "name": "python",
   "nbconvert_exporter": "python",
   "pygments_lexer": "ipython3",
   "version": "3.9.16"
  },
  "orig_nbformat": 4
 },
 "nbformat": 4,
 "nbformat_minor": 2
}
