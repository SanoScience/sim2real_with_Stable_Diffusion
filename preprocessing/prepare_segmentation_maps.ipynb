{
 "cells": [
  {
   "cell_type": "markdown",
   "metadata": {},
   "source": [
    "# Notebook for adjusting IRCAD segmentation maps (labels) to CholecSeg8k."
   ]
  },
  {
   "attachments": {},
   "cell_type": "markdown",
   "metadata": {},
   "source": [
    "## Cholect8kSeg dataset - classes and corresponding values"
   ]
  },
  {
   "cell_type": "code",
   "execution_count": 8,
   "metadata": {},
   "outputs": [],
   "source": [
    "# Our official color mappig, matching with Cholect -> class : rgb\n",
    "\n",
    "# Class 0 Black Background #7F7F7F 127  127 127\n",
    "# Class 1 Abdominal Wall #D28C8C 210 140 140\n",
    "# Class 2 Liver #FF7272 255 114 114\n",
    "# Class 3 Gastrointestinal Tract #E7469C 231 70 156\n",
    "# Class 4 Fat #BAB74B 186 183 75\n",
    "# Class 5 Grasper #AAFF00 170 255 0\n",
    "# Class 6 Connective Tissue #FF5500 255 85 0\n",
    "# Class 7 Blood #FF0000 255 0 0\n",
    "# Class 8 Cystic Duct #FFFF00 255 255 0\n",
    "# Class 9 L-hook Electrocautery #A9FFB8 169 255 184\n",
    "# Class 10 Gallbladder #FFA0A5255 160 165\n",
    "# Class 11 Hepatic Vein #003280 0 50 128\n",
    "# Class 12 Liver Ligament #6F4A00 111 74 0\n"
   ]
  },
  {
   "attachments": {},
   "cell_type": "markdown",
   "metadata": {},
   "source": [
    "## IRCAD dataset - classes and corresponding values"
   ]
  },
  {
   "cell_type": "code",
   "execution_count": null,
   "metadata": {},
   "outputs": [],
   "source": [
    "# IRCAD classes and corresponding values\n",
    "# Liver 26 26 26  \n",
    "# Abdominal Wall 77 77 77  \n",
    "# Fat 102, 102, 102  \n",
    "# Gallblader 51 51 51  \n",
    "# tool shaft  179  179 179  \n",
    "# tool tip  153  153 153\n",
    "# liver ligament 128 128 128"
   ]
  },
  {
   "cell_type": "markdown",
   "metadata": {},
   "source": [
    "## Assign Cholect8kSeg classes to IRCAD classes. Segmentation maps will be saved as greyscale."
   ]
  },
  {
   "cell_type": "code",
   "execution_count": 2,
   "metadata": {},
   "outputs": [],
   "source": [
    "import numpy as np\n",
    "from tqdm import tqdm \n",
    "import os\n",
    "import torch\n",
    "import glob\n",
    "import cv2\n",
    "from PIL import Image\n",
    "import matplotlib.pyplot as plt"
   ]
  },
  {
   "cell_type": "code",
   "execution_count": 1,
   "metadata": {},
   "outputs": [],
   "source": [
    "\n",
    "speidel_mapping = {\n",
    "2: (26, 26, 26),\n",
    "1: (77,77,77),\n",
    "4:(102, 102, 102),\n",
    "10:(51, 51, 51),\n",
    "5:(179, 179, 179),\n",
    "12:(128,128,128)\n",
    "}\n",
    "\n",
    "speidel_mapping_r = {v: k for k, v in speidel_mapping.items()}\n",
    "speidel_mapping_r[(153,153,153)] = 5 # tool tip goes as tool\n"
   ]
  },
  {
   "cell_type": "code",
   "execution_count": 3,
   "metadata": {},
   "outputs": [
    {
     "name": "stderr",
     "output_type": "stream",
     "text": [
      "100%|██████████| 20000/20000 [01:21<00:00, 244.19it/s]\n"
     ]
    }
   ],
   "source": [
    "ircad_labels_path = 'path/to/ircad/labels' # original IRCAD segmentation maps are in folder `labels`\n",
    "dest_path = \"path/to/new/segmentation/maps\"\n",
    "\n",
    "images = [v for v in glob.glob(f\"{ircad_labels_path}/*.png\")]\n",
    "\n",
    "if not os.path.exists(dest_path):\n",
    "        os.makedirs(dest_path)\n",
    "\n",
    "for im in tqdm(images):\n",
    "    img = cv2.imread(im)\n",
    "    img = cv2.cvtColor(img, cv2.COLOR_BGR2RGB)\n",
    "    \n",
    "    seg_map_tensor = torch.from_numpy(np.array(img)).float().cuda()\n",
    "\n",
    "    # Convert the RGB segmentation map to grayscale using the mapping dictionary\n",
    "    gray_seg_map = torch.zeros(seg_map_tensor.shape[:2]).cuda()\n",
    "    for color, class_id in speidel_mapping_r.items():\n",
    "        mask = (seg_map_tensor == torch.tensor(color).cuda().view(1, 1, -1)).all(dim=2)\n",
    "        gray_seg_map[mask] = class_id\n",
    "\n",
    "    # save greyscale img\n",
    "    output_path = os.path.join(dest_path,os.path.basename(im))\n",
    "    cv2.imwrite(output_path, gray_seg_map.cpu().numpy())\n"
   ]
  },
  {
   "attachments": {},
   "cell_type": "markdown",
   "metadata": {},
   "source": [
    "### and sanity check"
   ]
  },
  {
   "cell_type": "code",
   "execution_count": 4,
   "metadata": {},
   "outputs": [
    {
     "name": "stdout",
     "output_type": "stream",
     "text": [
      "(256, 452)\n",
      "(3, 256, 452)\n",
      "(256, 452, 3)\n"
     ]
    },
    {
     "data": {
      "text/plain": [
       "Text(0.5, 1.0, 'restored')"
      ]
     },
     "execution_count": 4,
     "metadata": {},
     "output_type": "execute_result"
    },
    {
     "data": {
      "image/png": "[encoded data removed]",
      "text/plain": [
       "<Figure size 1000x1000 with 2 Axes>"
      ]
     },
     "metadata": {},
     "output_type": "display_data"
    }
   ],
   "source": [
    "import matplotlib.pyplot as plt\n",
    "\n",
    "img_p = 'img00087_ircad18.png'\n",
    "\n",
    "orig_mask = cv2.imread(os.path.join(ircad_labels_path,img_p))\n",
    "orig_mask = cv2.cvtColor(orig_mask, cv2.COLOR_BGR2RGB)\n",
    "\n",
    "img = cv2.imread(os.path.join(dest_path,img_p), cv2.IMREAD_GRAYSCALE)\n",
    "print(img.shape)\n",
    "\n",
    "speidel_mapping = {\n",
    "2: (26, 26, 26),\n",
    "1: (77,77,77),\n",
    "4:(102, 102, 102),\n",
    "10:(51, 51, 51),\n",
    "5:(179, 179, 179),\n",
    "12:(128,128,128)\n",
    "}\n",
    "\n",
    "def map_function(mapping_dict, i): \n",
    "    return lambda x: mapping_dict[x][i]\n",
    "\n",
    "\n",
    "# apply the mapping for each channel using np.vectorize and the mapping dictionaries\n",
    "mapped_array_channel_1 = np.vectorize(map_function(speidel_mapping, 0))(img[:,:])\n",
    "mapped_array_channel_2 = np.vectorize(map_function(speidel_mapping, 1))(img[:,:])\n",
    "mapped_array_channel_3 = np.vectorize(map_function(speidel_mapping, 2))(img[:,:])\n",
    "\n",
    "# combine the mapped channels back into a single array\n",
    "mapped_array = np.array([mapped_array_channel_1, mapped_array_channel_2, mapped_array_channel_3])\n",
    "print(mapped_array.shape)\n",
    "mapped_array = mapped_array.transpose((1, 2, 0)).astype('uint8')\n",
    "print(mapped_array.shape)\n",
    "\n",
    "# Create a figure with two subplots\n",
    "fig, (ax1, ax2) = plt.subplots(1, 2,figsize=(10, 10))\n",
    "\n",
    "# Display the first image in the first subplot\n",
    "ax1.imshow(orig_mask)\n",
    "ax1.set_title('orig')\n",
    "\n",
    "# Display the second image in the second subplot\n",
    "ax2.imshow(mapped_array)\n",
    "ax2.set_title('restored')"
   ]
  },
  {
   "cell_type": "code",
   "execution_count": 21,
   "metadata": {},
   "outputs": [
    {
     "data": {
      "text/plain": [
       "<matplotlib.image.AxesImage at 0x7fb22c1790d0>"
      ]
     },
     "execution_count": 21,
     "metadata": {},
     "output_type": "execute_result"
    },
    {
     "data": {
      "image/png": "[encoded data removed]",
      "text/plain": [
       "<Figure size 640x480 with 1 Axes>"
      ]
     },
     "metadata": {},
     "output_type": "display_data"
    }
   ],
   "source": [
    "plt.imshow(mapped_array[:,:,0])"
   ]
  },
  {
   "cell_type": "code",
   "execution_count": 22,
   "metadata": {},
   "outputs": [
    {
     "data": {
      "text/plain": [
       "array([2, 4], dtype=uint8)"
      ]
     },
     "execution_count": 22,
     "metadata": {},
     "output_type": "execute_result"
    }
   ],
   "source": [
    "np.unique(img)"
   ]
  }
 ],
 "metadata": {
  "kernelspec": {
   "display_name": "base",
   "language": "python",
   "name": "python3"
  },
  "language_info": {
   "codemirror_mode": {
    "name": "ipython",
    "version": 3
   },
   "file_extension": ".py",
   "mimetype": "text/x-python",
   "name": "python",
   "nbconvert_exporter": "python",
   "pygments_lexer": "ipython3",
   "version": "3.9.13"
  },
  "orig_nbformat": 4,
  "vscode": {
   "interpreter": {
    "hash": "c3ba92e74a4191627d049a556b86b8de7025ad6ea6b9bd6e1b0735ce4be03fa6"
   }
  }
 },
 "nbformat": 4,
 "nbformat_minor": 2
}
