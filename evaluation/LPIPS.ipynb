{
 "cells": [
  {
   "cell_type": "markdown",
   "metadata": {},
   "source": [
    "# Calculate LPIPS for 10k image pairs from 1 folder \n",
    "### Pair: image N & image (N + 1)"
   ]
  },
  {
   "cell_type": "code",
   "execution_count": 1,
   "metadata": {},
   "outputs": [],
   "source": [
    "# !pip install lpips"
   ]
  },
  {
   "cell_type": "code",
   "execution_count": null,
   "metadata": {},
   "outputs": [],
   "source": [
    "import os\n",
    "import lpips\n",
    "import numpy as np\n",
    "from tqdm import tqdm\n",
    "import random\n",
    "\n",
    "# select IRCAD images \n",
    "# Since we calculate average distance between 10k pairs of current and consecutive images, it makes sense to have one list specifying which IRCAD frames in which order appear in calculation.\n",
    "# For that purpose in our paper we choose images generated from model vid25_66 part 1\n",
    "list_ = os.listdir('/path/to/output_vid25_66_part1')\n",
    "\n",
    "# Now we can calculate LPIPS for any data. Below example for mixed style, paths can be for inputs or baseline output data.\n",
    "data_path_25_66 = '/path/to/data' #output_vid25_66\n",
    "data_path_01_49 = '/path/to/data' #output_vid01_49\n",
    "data_path_52_56 = '/path/to/data' #output_vid52_56\n",
    "\n",
    "# calculate FID & KID for mixed style\n",
    "rand_dict = {1: data_path_25_66,\n",
    "            2: data_path_01_49,\n",
    "            3: data_path_52_56}\n",
    "\n",
    "files_common =set(os.listdir(rand_dict[1]))& set(os.listdir(rand_dict[2])) & set(os.listdir(rand_dict[3]))\n",
    "files = [os.path.join(rand_dict[random.randint(1, 3)], f) for f in files_common]\n",
    "\n",
    "random.seed(420420)\n",
    "files = random.sample(files,10000)"
   ]
  },
  {
   "cell_type": "code",
   "execution_count": null,
   "metadata": {},
   "outputs": [],
   "source": [
    "# Initializing the model\n",
    "loss_fn = lpips.LPIPS(net='vgg',version='0.1')\n",
    "loss_fn.to('cuda:1')\n",
    "\n",
    "dists = []\n",
    "for (ff,file) in tqdm(enumerate(files[:-1])):\n",
    "\n",
    "\timg0 = lpips.im2tensor(lpips.load_image(file)) # RGB image from [-1,1]\n",
    "\timg0 = img0.to('cuda:1')\n",
    "\n",
    "\tfiles1 = [files[ff+1],]\n",
    "\t\n",
    "\tfor file1 in files1:\n",
    "\t\timg1 = lpips.im2tensor(lpips.load_image(file1))\n",
    "\t\timg1 = img1.to('cuda:1')\n",
    "\n",
    "\t\t# Compute distance\n",
    "\t\tdist01 = loss_fn.forward(img0,img1)\n",
    "\t\tdists.append(dist01.item())\n",
    "\n",
    "avg_dist = np.mean(np.array(dists))\n",
    "stderr_dist = np.std(np.array(dists))/np.sqrt(len(dists))\n",
    "\n",
    "print('Avg: %.5f +/- %.5f'%(avg_dist,stderr_dist))\n",
    "\n"
   ]
  }
 ],
 "metadata": {
  "kernelspec": {
   "display_name": "base",
   "language": "python",
   "name": "python3"
  },
  "language_info": {
   "codemirror_mode": {
    "name": "ipython",
    "version": 3
   },
   "file_extension": ".py",
   "mimetype": "text/x-python",
   "name": "python",
   "nbconvert_exporter": "python",
   "pygments_lexer": "ipython3",
   "version": "3.9.13"
  },
  "orig_nbformat": 4
 },
 "nbformat": 4,
 "nbformat_minor": 2
}
